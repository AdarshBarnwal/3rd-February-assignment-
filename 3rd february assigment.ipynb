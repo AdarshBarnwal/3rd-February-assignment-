{
 "cells": [
  {
   "cell_type": "code",
   "execution_count": null,
   "id": "e76fc58b-0e18-4954-9eb6-23950426c3e3",
   "metadata": {},
   "outputs": [],
   "source": [
    "                   3rd february assignment"
   ]
  },
  {
   "cell_type": "code",
   "execution_count": null,
   "id": "b33091f8-948d-4632-9346-704cc6b5633e",
   "metadata": {},
   "outputs": [],
   "source": [
    "Q1. Which keyword is used to create a function? create a function to return a list of odd numbers in the range of 1 to 25.\n",
    "\n",
    "Ans:- \n",
    " def keyword is used to create a function\n",
    "    \n",
    "    \n",
    "def odd(n):\n",
    "    odd_no=[]\n",
    "    \n",
    "    for i in n :\n",
    "        if i%2!=0:\n",
    "            odd_no.append(i)\n",
    "    return (odd_no)\n",
    "\n",
    "a=list(range(1,16))\n",
    "odd(a)"
   ]
  },
  {
   "cell_type": "code",
   "execution_count": null,
   "id": "d6f44082-6b8e-4d4c-99a3-f3385183e316",
   "metadata": {
    "tags": []
   },
   "outputs": [],
   "source": [
    "Q2.why *args and **kwargs is used in some functions?create a function each for *args and **kwargs to demonstrate their use.\n",
    "\n",
    "Ans:- because we are unsure about total no of arguments to pass in function. hence we use *args to pass multiple \n",
    "arguments in function and **kwargs to pass multiple key-value pair i.e dictionary.\n",
    "\n",
    "# using *args\n",
    "def sqr(*args):\n",
    "    if type(i)==list:\n",
    "        for j in i:\n",
    "            result.append(j**2)\n",
    "            \n",
    "        else:\n",
    "            result.append(1**2)\n",
    "        return(result)\n",
    "    \n",
    "# using **kwargs\n",
    "\n",
    "def sqr_kv(**kwargs):\n",
    "    return (kwargs)\n",
    "\n",
    "sqr_kv(number=list(range(1,11)),square=sqar(list(range(1,11))))"
   ]
  },
  {
   "cell_type": "code",
   "execution_count": null,
   "id": "43955ee0-5af6-46e6-a81d-051fe38dc49f",
   "metadata": {},
   "outputs": [],
   "source": [
    "Q3.what is an iterator in python? name the method used to initialise the iterator object and the method used for \n",
    "iteration. use these methods to print the first five elements of the given list[2,4,6,8,10,12,14,16,18,20].\n",
    "\n",
    "Ans:- \n",
    "An iterator in python is an object that contains a countable number of elements that can be iterated upon.\n",
    "in a easy words, we can say that iterators are objects that allows us to traverse through all the elements \n",
    "of a collection and return one element at a time.\n",
    "\n",
    "The method iter() is used to initialise the iterator object and the method next() is used for iteration.\n",
    "\n",
    "#print first five elements\n",
    "\n",
    "1=[2,4,6,8,10,12,14,16,18,20]\n",
    "l1=iter(1)\n",
    "i=1\n",
    "while i<=5:\n",
    "    print(next(l1))\n",
    "    i=i+1"
   ]
  },
  {
   "cell_type": "code",
   "execution_count": null,
   "id": "3e306b43-1089-400c-b1b9-058d0f9605a3",
   "metadata": {},
   "outputs": [],
   "source": [
    "Q4.what is a generator function in python? why yield keyboard is used? give an example of a generator function.\n",
    "Ans\n",
    "\n",
    "A generator function in python is a special function which does not return a single value, instead,it returns an\n",
    "iterator object with a sequence of values. it allows us to create own iterator function.\n",
    "\n",
    "yield keyword in python that is used to return from the function without destroying the state of a local variable.\n",
    "\n",
    "# Example\n",
    "\n",
    "def genfuct(n):\n",
    "    i=1\n",
    "    while i<=10:\n",
    "        yield n*i\n",
    "        i=i+1\n",
    "        \n",
    "a=genfunct(int(input(\"enter your no:-\")))\n",
    "for j in a:\n",
    "    print(j)\n",
    "    "
   ]
  },
  {
   "cell_type": "code",
   "execution_count": null,
   "id": "68545150-ec95-4b4b-a0af-6ec40ee04d5e",
   "metadata": {},
   "outputs": [],
   "source": [
    "Q5. create a generator function for prime numbers less than 1000. use the next() method to print the first 20 prime numbers.\n",
    "\n",
    "Ans:-\n",
    "\n",
    "def prime_gen():\n",
    "    \n",
    "    for j in range(1,1000):\n",
    "        count=0\n",
    "        \n",
    "        for i in range(1,j+1):\n",
    "            \n",
    "            if j%1==0:\n",
    "                \n",
    "                count=count+1\n",
    "                \n",
    "            if count==2:\n",
    "                yield j\n",
    "                \n",
    "a1=prime_gen()\n",
    "i=1\n",
    "whilei<=20:\n",
    "    print(next(a1))\n",
    "    i=i+1"
   ]
  },
  {
   "cell_type": "code",
   "execution_count": null,
   "id": "a505f122-3d71-4729-ac4d-11fd288889ba",
   "metadata": {},
   "outputs": [],
   "source": [
    "Q6. write a python program to print the first 10 fibonacci numbers using a while loop.\n",
    "\n",
    "Ans:-\n",
    "i=1\n",
    "a=0\n",
    "b=1\n",
    "while i<=10:\n",
    "    print(a)\n",
    "    c=a+b\n",
    "    a=b\n",
    "    b=c\n",
    "    \n",
    "    i=i+1"
   ]
  },
  {
   "cell_type": "code",
   "execution_count": null,
   "id": "c3e31e48-2842-4d23-b387-2f65301642d6",
   "metadata": {},
   "outputs": [],
   "source": [
    "Q7.write a list comprehension to iterate through the given string: 'pwskills'.\n",
    "\n",
    "Ans:-\n",
    " String=\"pwskills\"\n",
    " \n",
    " [i for in in string]\n"
   ]
  },
  {
   "cell_type": "code",
   "execution_count": null,
   "id": "aac2fe0b-ddc1-40c1-b66e-8875592bc768",
   "metadata": {},
   "outputs": [],
   "source": [
    "Q8.write a python program to check whether a given number is palindrome or not using a while loop.\n",
    "\n",
    "Ans:-\n",
    "num=int(input(\"enter your no.:-\"))\n",
    "rem=0\n",
    "result=0\n",
    "n=num\n",
    "while n>0:\n",
    "    rem=n%10\n",
    "    n=n//10\n",
    "    result=result*10+rem\n",
    "    \n",
    "if num == result:\n",
    "    \n",
    "    print(num,\"is a palindrome\")\n",
    "    \n",
    "else:\n",
    "    print(num,\"is not a palindrome\")"
   ]
  },
  {
   "cell_type": "code",
   "execution_count": null,
   "id": "195912bf-b675-42af-a9a6-f8a95ab8731f",
   "metadata": {},
   "outputs": [],
   "source": [
    "Q9.write a code to print odd numbers from 1 to 100 using list comprehension.\n",
    "Ans:-\n",
    "\n",
    "[i for i in range(1,101) if i%2!=0]"
   ]
  }
 ],
 "metadata": {
  "kernelspec": {
   "display_name": "Python 3 (ipykernel)",
   "language": "python",
   "name": "python3"
  },
  "language_info": {
   "codemirror_mode": {
    "name": "ipython",
    "version": 3
   },
   "file_extension": ".py",
   "mimetype": "text/x-python",
   "name": "python",
   "nbconvert_exporter": "python",
   "pygments_lexer": "ipython3",
   "version": "3.10.8"
  }
 },
 "nbformat": 4,
 "nbformat_minor": 5
}
